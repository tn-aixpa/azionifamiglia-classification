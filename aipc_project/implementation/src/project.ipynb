{
 "cells": [
  {
   "cell_type": "code",
   "execution_count": 2,
   "id": "47283bed-9f47-4a2c-a059-f1adbab2bb00",
   "metadata": {},
   "outputs": [],
   "source": [
    "import digitalhub as dh"
   ]
  },
  {
   "cell_type": "markdown",
   "id": "9d2faf41-b8b5-4233-84f6-7bf8f6241a6f",
   "metadata": {},
   "source": [
    "# Create the 'Document Classification' AIPC project"
   ]
  },
  {
   "cell_type": "code",
   "execution_count": 3,
   "id": "095725e7-4836-4461-9cd5-d0fb485ca238",
   "metadata": {},
   "outputs": [],
   "source": [
    "project = dh.get_or_create_project(\"aipc_text_classification\")"
   ]
  },
  {
   "cell_type": "markdown",
   "id": "4fe30363-ee7c-44e0-8d70-8a39464286ca",
   "metadata": {},
   "source": [
    "## Create the raw data artifact"
   ]
  },
  {
   "cell_type": "code",
   "execution_count": 31,
   "id": "37b3d13c-2dc8-4156-8034-d84d9c1a54ec",
   "metadata": {},
   "outputs": [],
   "source": [
    "dataset = project.new_artifact(\n",
    "                    name=\"data\",\n",
    "                    kind=\"artifact\",\n",
    "                    path=\"s3://datalake/text_classification/it.zip\")"
   ]
  },
  {
   "cell_type": "code",
   "execution_count": 32,
   "id": "5541bba2-69ee-4d2c-9426-1ba9f5a0fcaf",
   "metadata": {},
   "outputs": [
    {
     "data": {
      "text/plain": [
       "'store://aipc_text_classification/artifact/artifact/data:f40cb68b-a316-4a6f-8d95-06419e8b7647'"
      ]
     },
     "execution_count": 32,
     "metadata": {},
     "output_type": "execute_result"
    }
   ],
   "source": [
    "dataset.key"
   ]
  },
  {
   "cell_type": "code",
   "execution_count": 33,
   "id": "e6a61984-96d3-4779-a207-d23514451b07",
   "metadata": {},
   "outputs": [
    {
     "data": {
      "text/plain": [
       "[{'kind': 'artifact', 'metadata': {'project': 'aipc_text_classification', 'name': 'data', 'version': 'f40cb68b-a316-4a6f-8d95-06419e8b7647', 'created': '2024-10-07T14:39:33.081Z', 'updated': '2024-10-07T14:39:33.081Z', 'created_by': 'tenant1userid', 'updated_by': 'tenant1userid', 'embedded': True}, 'spec': {'path': 's3://datalake/text_classification/it.zip'}, 'status': {'state': 'CREATED', 'files': [{'path': 's3://datalake/text_classification/it.zip', 'name': 'it.zip', 'size': 994345776, 'content_type': 'application/zip', 'last_modified': '2024-10-07T14:39:21.000+00:00'}]}, 'user': 'tenant1userid', 'project': 'aipc_text_classification', 'name': 'data', 'id': 'f40cb68b-a316-4a6f-8d95-06419e8b7647', 'key': 'store://aipc_text_classification/artifact/artifact/data:f40cb68b-a316-4a6f-8d95-06419e8b7647'}]"
      ]
     },
     "execution_count": 33,
     "metadata": {},
     "output_type": "execute_result"
    }
   ],
   "source": [
    "project.list_artifacts()"
   ]
  },
  {
   "cell_type": "code",
   "execution_count": 34,
   "id": "921497ec-057e-4727-898f-a152c1a4be24",
   "metadata": {
    "scrolled": true
   },
   "outputs": [],
   "source": [
    "zip = dataset.download()"
   ]
  },
  {
   "cell_type": "markdown",
   "id": "5f609568-5e80-41f8-a9c7-94e075e7fcb5",
   "metadata": {},
   "source": [
    "## Define the function for pre-processing the dataset"
   ]
  },
  {
   "cell_type": "code",
   "execution_count": 38,
   "id": "4fdb558e-4cb2-446b-8df2-a10176d63a53",
   "metadata": {},
   "outputs": [],
   "source": [
    "preprocess_function = project.new_function(\"preprocess1\",\n",
    "                         kind=\"python\",\n",
    "                         python_version=\"PYTHON3_10\",\n",
    "                         code_src=\"git+https://github.com/tn-aixpa/azionifamiglia-classification.git\",\n",
    "                         handler=\"aipc_project.implementation.src.preprocessing.preprocess:preprocess_data\")"
   ]
  },
  {
   "cell_type": "code",
   "execution_count": null,
   "id": "51773aab-6514-4b74-886d-f0684565898d",
   "metadata": {},
   "outputs": [],
   "source": []
  },
  {
   "cell_type": "code",
   "execution_count": 39,
   "id": "dbd04b3f-bc38-4917-badb-fbb056898845",
   "metadata": {},
   "outputs": [],
   "source": [
    "preprocess_run = preprocess_function.run(\n",
    "    action=\"job\",\n",
    "    inputs={\"raw_data_zip\": dataset.key},\n",
    "    parameter={\n",
    "        \"langs\": \"it\",\n",
    "        \"data_path\": \"data/\",\n",
    "        \"years\": \"1968\",  # \"all\",\n",
    "        \"seeds\": \"110\",\n",
    "        \"add_title\": False,\n",
    "        \"title_only\": False,\n",
    "        \"max_length\": 512,\n",
    "        \"limit_tokenizer\": False,\n",
    "        \"add_mt_do\": False,\n",
    "        \"get_doc_ids\": False,\n",
    "    },\n",
    "    requirements=[\n",
    "        \"transformers==4.26.1\",\n",
    "        \"scikit-learn==1.2.2\",\n",
    "        \"scikit-multilearn==0.2.0\",\n",
    "        \"numpy==1.23.4\",\n",
    "        \"lsg-converter==0.0.5\",\n",
    "        \"sentence-transformers==2.2.2\",\n",
    "        \"uvicorn==0.22.0\",\n",
    "        \"python-dotenv==1.0.0\",\n",
    "        \"compress_fasttext==0.1.3\",\n",
    "        \"scipy==1.10.0\",\n",
    "        \"nltk==3.8.1\",\n",
    "        \"gensim==4.3.0\",\n",
    "        \"ufal.udpipe==1.3.0.1\",\n",
    "        \"pyyaml==6.0\",\n",
    "        \"stop-words==2018.7.23\",\n",
    "        \"spacy==3.5.1\",\n",
    "        \"PageRange==0.4\",\n",
    "    ],\n",
    ")"
   ]
  },
  {
   "cell_type": "code",
   "execution_count": null,
   "id": "418edd38-e765-4422-a0bf-94c4296cb434",
   "metadata": {},
   "outputs": [],
   "source": []
  },
  {
   "cell_type": "code",
   "execution_count": null,
   "id": "408026a2-c45f-4a2e-9d35-42ecf2462861",
   "metadata": {},
   "outputs": [],
   "source": []
  }
 ],
 "metadata": {
  "kernelspec": {
   "display_name": "Python 3 (ipykernel)",
   "language": "python",
   "name": "python3"
  },
  "language_info": {
   "codemirror_mode": {
    "name": "ipython",
    "version": 3
   },
   "file_extension": ".py",
   "mimetype": "text/x-python",
   "name": "python",
   "nbconvert_exporter": "python",
   "pygments_lexer": "ipython3",
   "version": "3.10.11"
  }
 },
 "nbformat": 4,
 "nbformat_minor": 5
}
