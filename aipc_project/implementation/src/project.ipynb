{
 "cells": [
  {
   "cell_type": "code",
   "execution_count": 1,
   "id": "47283bed-9f47-4a2c-a059-f1adbab2bb00",
   "metadata": {},
   "outputs": [],
   "source": [
    "import mlrun"
   ]
  },
  {
   "cell_type": "markdown",
   "id": "9d2faf41-b8b5-4233-84f6-7bf8f6241a6f",
   "metadata": {},
   "source": [
    "# Create the 'Legal Acts Classification' AIPC project"
   ]
  },
  {
   "cell_type": "code",
   "execution_count": 90,
   "id": "095725e7-4836-4461-9cd5-d0fb485ca238",
   "metadata": {},
   "outputs": [
    {
     "name": "stdout",
     "output_type": "stream",
     "text": [
      "Project Source: https://github.com/smartcommunitylab/ai_product_card_templates/tree/main/aipc_examples/document_classification_aipc/fasttext\n",
      "> 2024-02-27 14:07:31,962 [debug] Auto mount disabled due to user selection (auto_mount_type=none)\n",
      "> 2024-02-27 14:07:32,188 [info] Project loaded successfully: {'project_name': 'fasttext-aipc'}\n"
     ]
    }
   ],
   "source": [
    "project = mlrun.get_or_create_project(\n",
    "    name=\"fasttext-aipc\",\n",
    "    context=\"./\",\n",
    "    parameters={\n",
    "        \"source\": \"https://github.com/smartcommunitylab/ai_product_card_templates/tree/main/aipc_examples/document_classification_aipc/fasttext\",\n",
    "        \"default_image\": \"mlrun/mlrun\",\n",
    "        \"requirements_file\": \"./requirements.txt\",\n",
    "        \"metadata_path\": \"../../metadata/\"\n",
    "    }\n",
    ")"
   ]
  },
  {
   "cell_type": "code",
   "execution_count": null,
   "id": "ff3f50d4-1f87-4293-a684-5f8694ea6490",
   "metadata": {},
   "outputs": [],
   "source": []
  },
  {
   "cell_type": "markdown",
   "id": "5f609568-5e80-41f8-a9c7-94e075e7fcb5",
   "metadata": {},
   "source": [
    "## Create specific workflow"
   ]
  },
  {
   "cell_type": "code",
   "execution_count": 92,
   "id": "4fdb558e-4cb2-446b-8df2-a10176d63a53",
   "metadata": {},
   "outputs": [],
   "source": [
    "project.set_workflow(\n",
    "        \"classification\",\n",
    "        workflow_path=\"./workflows/main_workflow.py\",\n",
    "        engine=\"kfp\",\n",
    "        handler=\"classification_pipeline\"\n",
    ")"
   ]
  },
  {
   "cell_type": "code",
   "execution_count": null,
   "id": "dbd04b3f-bc38-4917-badb-fbb056898845",
   "metadata": {},
   "outputs": [],
   "source": []
  }
 ],
 "metadata": {
  "kernelspec": {
   "display_name": "Python 3 (ipykernel)",
   "language": "python",
   "name": "python3"
  },
  "language_info": {
   "codemirror_mode": {
    "name": "ipython",
    "version": 3
   },
   "file_extension": ".py",
   "mimetype": "text/x-python",
   "name": "python",
   "nbconvert_exporter": "python",
   "pygments_lexer": "ipython3",
   "version": "3.9.16"
  }
 },
 "nbformat": 4,
 "nbformat_minor": 5
}
