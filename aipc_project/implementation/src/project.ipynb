{
 "cells": [
  {
   "cell_type": "code",
   "execution_count": 2,
   "id": "47283bed-9f47-4a2c-a059-f1adbab2bb00",
   "metadata": {},
   "outputs": [],
   "source": [
    "import digitalhub as dh"
   ]
  },
  {
   "cell_type": "markdown",
   "id": "9d2faf41-b8b5-4233-84f6-7bf8f6241a6f",
   "metadata": {},
   "source": [
    "# Create the 'Document Classification' AIPC project"
   ]
  },
  {
   "cell_type": "code",
   "execution_count": 3,
   "id": "095725e7-4836-4461-9cd5-d0fb485ca238",
   "metadata": {},
   "outputs": [],
   "source": [
    "project = dh.get_or_create_project(\"aipc_text_classification\")"
   ]
  },
  {
   "cell_type": "code",
   "execution_count": 10,
   "id": "37b3d13c-2dc8-4156-8034-d84d9c1a54ec",
   "metadata": {},
   "outputs": [],
   "source": [
    "dataset = project.new_dataitem(\n",
    "                    name=\"data\",\n",
    "                    kind=\"table\",\n",
    "                    path=\"s3://datalake/text_classification/eurlex-ita.zip\")"
   ]
  },
  {
   "cell_type": "code",
   "execution_count": 11,
   "id": "e6a61984-96d3-4779-a207-d23514451b07",
   "metadata": {},
   "outputs": [
    {
     "data": {
      "text/plain": [
       "[{'kind': 'table', 'metadata': {'project': 'aipc_text_classification', 'name': 'data', 'version': 'a4017be9-4902-4297-b874-4dbfa9794c91', 'created': '2024-10-07T12:17:47.403Z', 'updated': '2024-10-07T12:17:47.403Z', 'created_by': 'tenant1userid', 'updated_by': 'tenant1userid', 'embedded': True}, 'spec': {'path': 's3://datalake/text_classification/eurlex-ita.zip'}, 'status': {'state': 'CREATED', 'files': [{'path': 's3://datalake/text_classification/eurlex-ita.zip', 'name': 'eurlex-ita.zip', 'size': 994683465, 'content_type': 'application/zip', 'last_modified': '2024-10-07T07:54:28.000+00:00'}]}, 'user': 'tenant1userid', 'project': 'aipc_text_classification', 'name': 'data', 'id': 'a4017be9-4902-4297-b874-4dbfa9794c91', 'key': 'store://aipc_text_classification/dataitem/table/data:a4017be9-4902-4297-b874-4dbfa9794c91'}]"
      ]
     },
     "execution_count": 11,
     "metadata": {},
     "output_type": "execute_result"
    }
   ],
   "source": [
    "project.list_dataitems()"
   ]
  },
  {
   "cell_type": "markdown",
   "id": "5f609568-5e80-41f8-a9c7-94e075e7fcb5",
   "metadata": {},
   "source": [
    "## Pre-process the training dataset"
   ]
  },
  {
   "cell_type": "code",
   "execution_count": 12,
   "id": "4fdb558e-4cb2-446b-8df2-a10176d63a53",
   "metadata": {},
   "outputs": [],
   "source": [
    "preprocess_function = project.new_function(\"preprocess\",\n",
    "                         kind=\"python\",\n",
    "                         python_version=\"PYTHON3_10\",\n",
    "                         code_src=\"preprocessing/preprocess.py\",\n",
    "                         handler=\"preprocess_data\")"
   ]
  },
  {
   "cell_type": "code",
   "execution_count": null,
   "id": "dbd04b3f-bc38-4917-badb-fbb056898845",
   "metadata": {},
   "outputs": [],
   "source": []
  }
 ],
 "metadata": {
  "kernelspec": {
   "display_name": "Python 3 (ipykernel)",
   "language": "python",
   "name": "python3"
  },
  "language_info": {
   "codemirror_mode": {
    "name": "ipython",
    "version": 3
   },
   "file_extension": ".py",
   "mimetype": "text/x-python",
   "name": "python",
   "nbconvert_exporter": "python",
   "pygments_lexer": "ipython3",
   "version": "3.10.11"
  }
 },
 "nbformat": 4,
 "nbformat_minor": 5
}
